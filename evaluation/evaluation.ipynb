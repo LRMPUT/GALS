{
 "cells": [
  {
   "cell_type": "code",
   "execution_count": 2,
   "metadata": {
    "tags": []
   },
   "outputs": [
    {
     "data": {
      "application/vnd.jupyter.widget-view+json": {
       "model_id": "0013d92edfca498287063369f78124d9",
       "version_major": 2,
       "version_minor": 0
      },
      "text/plain": [
       "Map(center=[22.330486, 114.17954], controls=(ZoomControl(options=['position', 'zoom_in_text', 'zoom_in_title',…"
      ]
     },
     "metadata": {},
     "output_type": "display_data"
    }
   ],
   "source": [
    "#import networkx as nx\n",
    "import csv\n",
    "import osmnx as ox\n",
    "import requests\n",
    "import matplotlib.cm as cm\n",
    "import matplotlib.colors as colors\n",
    "import matplotlib;\n",
    "import pandas as pd \n",
    "import utm\n",
    "import matplotlib.pyplot as plt \n",
    "from shapely.geometry import LineString, mapping\n",
    "import geopandas as gpd\n",
    "from ipyleaflet import *\n",
    "from ipyleaflet import Map, FullScreenControl, Polyline\n",
    "from datetime import datetime, timedelta, timezone\n",
    "import subprocess\n",
    "import numpy as np\n",
    "ox.config(use_cache=True, log_console=True)\n",
    "%matplotlib inline\n",
    "from shapely.geometry import Point\n",
    "import pyproj, math\n",
    "\n",
    "# Read ground truth data\n",
    "with open(\"../dataset/gps_solution_TST/groundTruth_TST.csv\", 'r') as f:\n",
    "    reader = csv.reader(f, delimiter=\",\",quoting=csv.QUOTE_NONNUMERIC);\n",
    "    data_gt_raw = list(reader);\n",
    "    \n",
    "# Save ground truth using UTM conversion\n",
    "with open(\"./results/gt_utm.tum\", 'w') as f:\n",
    "    dt_gps = datetime(1980, 1, 6).replace(tzinfo=timezone.utc)\n",
    "    leap_seconds = 37 - 19 # 19 - 1980, 37 - 2021\n",
    "    for item in data_gt_raw:\n",
    "        # [0]-GPS week, [1]-GPS seconds, [2]-latitude, [3]-longirude, [4]-altitude\n",
    "        timestamp = datetime.timestamp(dt_gps + timedelta(seconds = item[0]*3600*24*7+item[1] - leap_seconds))\n",
    "        utm_res = utm.from_latlon(item[2], item[3]) # return easting, northing, zone\n",
    "        f.write(\"{} {} {} {} {} {} {} {}\\n\".format(timestamp, utm_res[0], utm_res[1], item[4], 0, 0, 0, 1))\n",
    "\n",
    "# Save ground truth using ECEF conversion\n",
    "# EPSG:4978-ECEF, EPSG:4326-Lat,Lon , EPSG:32650-UTM 50N (Hong Kong)           \n",
    "with open(\"./results/gt_ecef.tum\", 'w') as f:\n",
    "    data_gt_lat = [item[2] for item in data_gt_raw]\n",
    "    data_gt_lon = [item[3] for item in data_gt_raw]\n",
    "    data_gt_alt = [item[4] for item in data_gt_raw]\n",
    "    data_gt_gpd = gpd.points_from_xy(data_gt_lon, data_gt_lat, z=data_gt_alt, crs=\"EPSG:4326\")\n",
    "    data_gt_gpd_conv = data_gt_gpd.to_crs(crs=\"EPSG:4978\")   \n",
    "    dt_gps = datetime(1980, 1, 6).replace(tzinfo=timezone.utc)\n",
    "    leap_seconds = 37 - 19 # 19 - 1980, 37 - 2021\n",
    "    for i, item in enumerate(data_gt_raw):\n",
    "        # [0]-GPS week, [1]-GPS seconds, [2]-latitude, [3]-longirude, [4]-altitude\n",
    "        timestamp = datetime.timestamp(dt_gps + timedelta(seconds = item[0]*3600*24*7+item[1] - leap_seconds))\n",
    "        f.write(\"{} {} {} {} {} {} {} {}\\n\".format(timestamp, data_gt_gpd_conv[i].x, data_gt_gpd_conv[i].y, data_gt_gpd_conv[i].z, 0, 0, 0, 1))\n",
    "\n",
    "# Read GPS estimated pose\n",
    "with open(\"../dataset/gps_solution_TST/results.pos\", 'r') as f:\n",
    "    reader = csv.reader(filter(lambda row: row[0]!='%', f), delimiter=\",\",quoting=csv.QUOTE_NONNUMERIC)\n",
    "    data_gps_raw = list(reader)\n",
    "\n",
    "# Convert GPS estimated pose and save to file\n",
    "with open(\"./results/gps_ecef.tum\", 'w') as f:\n",
    "    data_gps_lat = [item[2] for item in data_gps_raw]\n",
    "    data_gps_lon = [item[3] for item in data_gps_raw]\n",
    "    data_gps_alt = [item[4] for item in data_gps_raw]\n",
    "    data_gps_gpd = gpd.points_from_xy(data_gps_lon, data_gps_lat, z=data_gps_alt, crs=\"EPSG:4326\")\n",
    "    data_gps_gpd_conv = data_gps_gpd.to_crs(crs=\"EPSG:4978\")  \n",
    "    dt_gps = datetime(1980, 1, 6).replace(tzinfo=timezone.utc)\n",
    "    leap_seconds = 37 - 19 # 19 - 1980, 37 - 2021\n",
    "    for i, item in enumerate(data_gps_raw):\n",
    "        # [0]-GPS week, [1]-GPS seconds, [2]-latitude, [3]-longirude, [4]-altitude\n",
    "        timestamp = datetime.timestamp(dt_gps + timedelta(seconds = item[0]*3600*24*7+item[1] - leap_seconds))\n",
    "        f.write(\"{} {} {} {} {} {} {} {}\\n\".format(timestamp, data_gps_gpd_conv[i].x, data_gps_gpd_conv[i].y, data_gps_gpd_conv[i].z, 0, 0, 0, 1))\n",
    "\n",
    "# Call evo_ape evaluation\n",
    "f = open(\"./results/evo_ape.txt\", \"w\")\n",
    "subprocess.call(\"rm ape.pdf\", shell=True, cwd=\"./results\")\n",
    "subprocess.call(\"evo_ape tum gt_ecef.tum gps_ecef.tum -va --save_plot ape.pdf\", stdout=f, shell=True, cwd=\"./results\")\n",
    "f.close()\n",
    "\n",
    "# Add map visualization\n",
    "# Ground truth\n",
    "gt_line = Polyline(\n",
    "    locations=[[x,y] for week,sec,x,y,z in data_gt_raw],\n",
    "    color=\"black\",\n",
    "    fill=False,\n",
    "    opacity = 0.8\n",
    ")\n",
    "gps_line= Polyline(\n",
    "    locations=[[x,y] for x,y in zip(data_gps_lat,data_gps_lon)],\n",
    "    color=\"green\",\n",
    "    fill=False,\n",
    "    opacity=0.8,\n",
    ")\n",
    "m = Map(center=[data_gt_lat[0], data_gt_lon[0]], basemap=basemaps.OpenStreetMap.Mapnik, zoom=15)\n",
    "m.add_control(FullScreenControl())\n",
    "m.add_layer(gt_line)\n",
    "m.add_layer(gps_line)\n",
    "m"
   ]
  },
  {
   "cell_type": "code",
   "execution_count": null,
   "metadata": {},
   "outputs": [],
   "source": []
  },
  {
   "cell_type": "code",
   "execution_count": null,
   "metadata": {},
   "outputs": [],
   "source": []
  },
  {
   "cell_type": "code",
   "execution_count": null,
   "metadata": {},
   "outputs": [],
   "source": []
  }
 ],
 "metadata": {
  "kernelspec": {
   "display_name": "Python 3",
   "language": "python",
   "name": "python3"
  },
  "language_info": {
   "codemirror_mode": {
    "name": "ipython",
    "version": 3
   },
   "file_extension": ".py",
   "mimetype": "text/x-python",
   "name": "python",
   "nbconvert_exporter": "python",
   "pygments_lexer": "ipython3",
   "version": "3.6.9"
  }
 },
 "nbformat": 4,
 "nbformat_minor": 5
}